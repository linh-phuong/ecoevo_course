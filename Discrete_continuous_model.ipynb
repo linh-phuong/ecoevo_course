{
 "cells": [
  {
   "attachments": {},
   "cell_type": "markdown",
   "metadata": {},
   "source": [
    "# Exponential growth model example\n",
    "\n",
    "Discrete time model\n",
    "\n",
    "$N_{t+1} = N_t + R N_t$\n",
    "\n",
    "Continuous time model\n",
    "\n",
    "$\\frac{dN}{dt} = r N$\n",
    "\n",
    "The two models give similar results when $R = e^r - 1$"
   ]
  },
  {
   "cell_type": "code",
   "execution_count": 53,
   "metadata": {},
   "outputs": [],
   "source": [
    "from scipy.integrate import solve_ivp\n",
    "import numpy as np\n",
    "from tools import iterate\n",
    "import ipywidgets as ipy\n",
    "import matplotlib.pylab as plt"
   ]
  },
  {
   "cell_type": "code",
   "execution_count": 54,
   "metadata": {},
   "outputs": [],
   "source": [
    "# Define model\n",
    "\n",
    "def exp_discrete(n, R):\n",
    "    return n + R * n\n",
    "\n",
    "def exp_continuous(t, n, r):\n",
    "    return r * n"
   ]
  },
  {
   "cell_type": "code",
   "execution_count": 55,
   "metadata": {},
   "outputs": [],
   "source": [
    "init = 0.2 #initial population density\n",
    "time_series = np.linspace(0, 100, 100)\n",
    "r = 0.1\n",
    "R = 0.1 # Lets try the value R = e^r - 1 \n",
    "# simulation for continuous time model\n",
    "pop_continuous = solve_ivp(exp_continuous, [0, 100], [init], \n",
    "                           t_eval=time_series, args=(r,))\n",
    "\n",
    "# simulation for discrete time model\n",
    "t_discrete, pop_discrete = iterate(exp_discrete, init, time_series[-1], R)"
   ]
  },
  {
   "cell_type": "code",
   "execution_count": 56,
   "metadata": {},
   "outputs": [
    {
     "data": {
      "text/plain": [
       "<matplotlib.legend.Legend at 0x12aa29a30>"
      ]
     },
     "execution_count": 56,
     "metadata": {},
     "output_type": "execute_result"
    },
    {
     "data": {
      "image/png": "[encoded data removed]",
      "text/plain": [
       "<Figure size 432x288 with 1 Axes>"
      ]
     },
     "metadata": {
      "needs_background": "light"
     },
     "output_type": "display_data"
    }
   ],
   "source": [
    "plt.scatter(pop_continuous.t, pop_continuous.y, label='Continuous time model r=0.1')\n",
    "plt.scatter(t_discrete, pop_discrete, label='Discrete time model R = 0.1')\n",
    "plt.xlabel('Time')\n",
    "plt.ylabel('Population density')\n",
    "plt.legend()\n"
   ]
  },
  {
   "attachments": {},
   "cell_type": "markdown",
   "metadata": {},
   "source": [
    "# Interactive graph"
   ]
  },
  {
   "cell_type": "code",
   "execution_count": 61,
   "metadata": {},
   "outputs": [],
   "source": [
    "# Code to produce interactive figures\n",
    "time_series = np.linspace(0, 100, 100)\n",
    "\n",
    "# Create function for interactive plot\n",
    "def plot_interactive(R_val, r_val):\n",
    "    pc = solve_ivp(exp_continuous, [0, 100], [0.2], \n",
    "                t_eval=time_series, args=(r_val,))\n",
    "    td, pd = iterate(exp_discrete, 0.2, time_series[-1], R_val)\n",
    "    plt.scatter(pc.t, pc.y, label=f'r = {r_val}')\n",
    "    plt.scatter(td, pd, label=f'R = {R_val}, \\n e^r - 1 = {np.exp(r_val) - 1}')\n",
    "    plt.legend(loc='upper left')\n",
    "    plt.xlabel('Time')\n",
    "    plt.ylabel('Population density')"
   ]
  },
  {
   "cell_type": "code",
   "execution_count": 62,
   "metadata": {},
   "outputs": [
    {
     "data": {
      "application/vnd.jupyter.widget-view+json": {
       "model_id": "243a694edd3846e087a18290452a0bfa",
       "version_major": 2,
       "version_minor": 0
      },
      "text/plain": [
       "interactive(children=(FloatSlider(value=0.0505, description='R_val', max=0.1, min=0.001, step=0.0001), FloatSl…"
      ]
     },
     "metadata": {},
     "output_type": "display_data"
    },
    {
     "data": {
      "text/plain": [
       "<function __main__.plot_interactive(R_val, r_val)>"
      ]
     },
     "execution_count": 62,
     "metadata": {},
     "output_type": "execute_result"
    }
   ],
   "source": [
    "ipy.interact(plot_interactive, R_val=(0.001, 0.1, 1e-4), r_val=(0.001, 0.1, 1e-4))"
   ]
  },
  {
   "cell_type": "code",
   "execution_count": null,
   "metadata": {},
   "outputs": [],
   "source": []
  }
 ],
 "metadata": {
  "kernelspec": {
   "display_name": "phuong",
   "language": "python",
   "name": "python3"
  },
  "language_info": {
   "codemirror_mode": {
    "name": "ipython",
    "version": 3
   },
   "file_extension": ".py",
   "mimetype": "text/x-python",
   "name": "python",
   "nbconvert_exporter": "python",
   "pygments_lexer": "ipython3",
   "version": "3.9.6"
  },
  "orig_nbformat": 4,
  "vscode": {
   "interpreter": {
    "hash": "821e0045fb359eff2ebc66a698b40aed81c5204dd7719c40236d82829f4a3d28"
   }
  }
 },
 "nbformat": 4,
 "nbformat_minor": 2
}
